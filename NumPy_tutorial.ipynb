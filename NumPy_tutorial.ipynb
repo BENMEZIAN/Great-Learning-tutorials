{
  "nbformat": 4,
  "nbformat_minor": 0,
  "metadata": {
    "colab": {
      "provenance": [],
      "collapsed_sections": [
        "I4F1n6rPx3Ju",
        "TcuihVGIyBgk",
        "GMjwOoI92Zcb"
      ],
      "authorship_tag": "ABX9TyPtQvxw/o5PGQ4n8pzrG4Zn",
      "include_colab_link": true
    },
    "kernelspec": {
      "name": "python3",
      "display_name": "Python 3"
    },
    "language_info": {
      "name": "python"
    }
  },
  "cells": [
    {
      "cell_type": "markdown",
      "metadata": {
        "id": "view-in-github",
        "colab_type": "text"
      },
      "source": [
        "<a href=\"https://colab.research.google.com/github/BENMEZIAN/Great-Learning-tutorials/blob/main/NumPy_tutorial.ipynb\" target=\"_parent\"><img src=\"https://colab.research.google.com/assets/colab-badge.svg\" alt=\"Open In Colab\"/></a>"
      ]
    },
    {
      "cell_type": "code",
      "execution_count": null,
      "metadata": {
        "id": "ADhrVEa1pKSe"
      },
      "outputs": [],
      "source": [
        "import numpy as np"
      ]
    },
    {
      "cell_type": "markdown",
      "source": [
        "# Introduction to NumPy"
      ],
      "metadata": {
        "id": "I4F1n6rPx3Ju"
      }
    },
    {
      "cell_type": "code",
      "source": [
        "arr1 = np.array([1,2,3,4,5,6]) # one dimensional array\n",
        "arr2 = np.array([[1,2,3],[4,5,6]]) # two dimensional array\n",
        "arr3 = np.array([[[1,2,3],[4,5,6]],[[7,8,9],[10,11,12]]]) # three dimensional array\n",
        "arr4 = np.zeros((3,3)) # zeros array\n",
        "arr5 = np.ones((3,3)) # ones array\n",
        "arr6 = np.empty((3,3)) # empty array\n",
        "arr7 = np.full((3,3),7) # full array\n",
        "arr8 = np.arange(0,10,2) # arange array\n",
        "arr9 = np.linspace(0,10,5) # linspace array\n",
        "arr10 = np.random.rand(3,3) # random array\n",
        "\n",
        "print(\"One dimensional array :\",arr1)\n",
        "print(\"Two dimensional array :\",arr2)\n",
        "print(\"Three dimensional array :\\n\",arr3)\n",
        "print(\"Zeros array :\\n\",arr4)\n",
        "print(\"Ones array :\\n\",arr5)\n",
        "print(\"Empty array :\\n\",arr6)\n",
        "print(\"Full array :\\n\",arr7)\n",
        "print(\"Arange array :\",arr8)\n",
        "print(\"Linspace array :\",arr9)\n",
        "print(\"Random array :\",arr10)"
      ],
      "metadata": {
        "colab": {
          "base_uri": "https://localhost:8080/"
        },
        "id": "yztbW3S1uFyS",
        "outputId": "3b45db63-de33-433f-d51a-91c403a3fdec"
      },
      "execution_count": null,
      "outputs": [
        {
          "output_type": "stream",
          "name": "stdout",
          "text": [
            "One dimensional array : [1 2 3 4 5 6]\n",
            "Two dimensional array : [[1 2 3]\n",
            " [4 5 6]]\n",
            "Three dimensional array :\n",
            " [[[ 1  2  3]\n",
            "  [ 4  5  6]]\n",
            "\n",
            " [[ 7  8  9]\n",
            "  [10 11 12]]]\n",
            "Zeros array :\n",
            " [[0. 0. 0.]\n",
            " [0. 0. 0.]\n",
            " [0. 0. 0.]]\n",
            "Ones array :\n",
            " [[1. 1. 1.]\n",
            " [1. 1. 1.]\n",
            " [1. 1. 1.]]\n",
            "Empty array :\n",
            " [[1. 1. 1.]\n",
            " [1. 1. 1.]\n",
            " [1. 1. 1.]]\n",
            "Full array :\n",
            " [[7 7 7]\n",
            " [7 7 7]\n",
            " [7 7 7]]\n",
            "Arange array : [0 2 4 6 8]\n",
            "Linspace array : [ 0.   2.5  5.   7.5 10. ]\n",
            "Random array : [[0.782371   0.48634357 0.89749081]\n",
            " [0.93063836 0.85543841 0.12555732]\n",
            " [0.66178587 0.48659461 0.5638435 ]]\n"
          ]
        }
      ]
    },
    {
      "cell_type": "markdown",
      "source": [
        "# NumPy Operations"
      ],
      "metadata": {
        "id": "TcuihVGIyBgk"
      }
    },
    {
      "cell_type": "code",
      "source": [
        "data1 = np.array([1,2,3,4,5,6])\n",
        "data2 = np.array([7,8,9,10,11,12])\n",
        "# arr2 = np.array([[1,2,3],[4,5,6]]) # two dimensional array\n",
        "\n",
        "print(\"Data1 :\",data1)\n",
        "print(\"Data2 :\",data2)\n",
        "\n",
        "# Shape\n",
        "print(\"Shape of arr1 :\",data1.shape)\n",
        "print(\"Shape of arr2 :\",data2.shape)\n",
        "\n",
        "# Join array\n",
        "data_concat = np.concatenate((data1,data2))\n",
        "print(\"Concatenated array :\",data_concat)\n",
        "\n",
        "# vstack, hstack, columns_stack functions\n",
        "data_vstack = np.vstack((data1,data2))\n",
        "data_hstack = np.hstack((data1,data2))\n",
        "data_columns_stack = np.column_stack((data1,data2))\n",
        "\n",
        "print(\"Vertical stack :\\n\",data_vstack)\n",
        "print(\"Horizontal stack :\\n\",data_hstack)\n",
        "print(\"Columns stack :\\n\",data_columns_stack)\n",
        "\n",
        "# intercet1d and setdiff\n",
        "data_intercet = np.intersect1d(data1,data2)\n",
        "data_setdiff = np.setdiff1d(data1,data2)\n",
        "print(\"Intersection :\",data_intercet) # there are no common elements\n",
        "print(\"Set difference :\",data_setdiff) # only elements in data1"
      ],
      "metadata": {
        "colab": {
          "base_uri": "https://localhost:8080/"
        },
        "id": "qOrBK2CRyGHA",
        "outputId": "cc739e50-0470-4c83-c5db-17ec442b50bb"
      },
      "execution_count": null,
      "outputs": [
        {
          "output_type": "stream",
          "name": "stdout",
          "text": [
            "Data1 : [1 2 3 4 5 6]\n",
            "Data2 : [ 7  8  9 10 11 12]\n",
            "Shape of arr1 : (6,)\n",
            "Shape of arr2 : (6,)\n",
            "Concatenated array : [ 1  2  3  4  5  6  7  8  9 10 11 12]\n",
            "Vertical stack :\n",
            " [[ 1  2  3  4  5  6]\n",
            " [ 7  8  9 10 11 12]]\n",
            "Horizontal stack :\n",
            " [ 1  2  3  4  5  6  7  8  9 10 11 12]\n",
            "Columns stack :\n",
            " [[ 1  7]\n",
            " [ 2  8]\n",
            " [ 3  9]\n",
            " [ 4 10]\n",
            " [ 5 11]\n",
            " [ 6 12]]\n",
            "Intersection : []\n",
            "Set difference : [1 2 3 4 5 6]\n"
          ]
        }
      ]
    },
    {
      "cell_type": "markdown",
      "source": [
        "# NumPy Mathematics"
      ],
      "metadata": {
        "id": "GMjwOoI92Zcb"
      }
    },
    {
      "cell_type": "code",
      "source": [
        "# np.sum\n",
        "array1 = np.array([1,2,3,4,5,6])\n",
        "array2 = np.array([7,8,9,10,11,12])\n",
        "print(\"-----------------------------------\")\n",
        "sum = np.sum(array1)\n",
        "sum_axis_0 = np.sum([array1,array2],axis=0)\n",
        "sum_axis_1 = np.sum([array1,array2],axis=1)\n",
        "\n",
        "print(\"Sum :\",sum)\n",
        "print(\"Sum axis 0 :\",sum_axis_0) # by columns\n",
        "print(\"Sum axis 1 :\",sum_axis_1) # by rows\n",
        "\n",
        "# np.mean\n",
        "mean = np.mean(array1)\n",
        "mean_axis_0 = np.mean([array1,array2],axis=0)\n",
        "mean_axis_1 = np.mean([array1,array2],axis=1)\n",
        "\n",
        "print(\"Mean :\",mean)\n",
        "print(\"Mean axis 0 :\",mean_axis_0) # by columns\n",
        "print(\"Mean axis 1 :\",mean_axis_1) # by rows\n",
        "\n",
        "# np.median\n",
        "median = np.median(array1)\n",
        "median_axis_0 = np.median([array1,array2],axis=0)\n",
        "median_axis_1 = np.median([array1,array2],axis=1)\n",
        "\n",
        "print(\"Median :\",median)\n",
        "print(\"Median axis 0 :\",median_axis_0) # by columns\n",
        "print(\"Median axis 1 :\",median_axis_1) # by rows\n",
        "\n",
        "# np.std\n",
        "std = np.std(array1)\n",
        "std_axis_0 = np.std([array1,array2],axis=0)\n",
        "std_axis_1 = np.std([array1,array2],axis=1)\n",
        "\n",
        "print(\"Standard deviation :\",std)\n",
        "print(\"Standard deviation axis 0 :\",std_axis_0) # by columns\n",
        "print(\"Standard deviation axis 1 :\",std_axis_1) # by rows\n",
        "\n",
        "# basic addition, multiplication, division, substraction on these 2 declared arrays\n",
        "print(\"-----------------------------------\")\n",
        "print(\"Addition :\",array1+array2)\n",
        "print(\"Multiplication :\",array1*array2)\n",
        "print(\"Division :\",array1/array2)\n",
        "print(\"Substraction :\",array1-array2)\n",
        "print(\"-----------------------------------\")"
      ],
      "metadata": {
        "colab": {
          "base_uri": "https://localhost:8080/"
        },
        "collapsed": true,
        "id": "xrg-RuzU2kyE",
        "outputId": "7eee729c-ffb8-4052-9297-ebac31db40bb"
      },
      "execution_count": 53,
      "outputs": [
        {
          "output_type": "stream",
          "name": "stdout",
          "text": [
            "-----------------------------------\n",
            "Sum : 21\n",
            "Sum axis 0 : [ 8 10 12 14 16 18]\n",
            "Sum axis 1 : [21 57]\n",
            "Mean : 3.5\n",
            "Mean axis 0 : [4. 5. 6. 7. 8. 9.]\n",
            "Mean axis 1 : [3.5 9.5]\n",
            "Median : 3.5\n",
            "Median axis 0 : [4. 5. 6. 7. 8. 9.]\n",
            "Median axis 1 : [3.5 9.5]\n",
            "Standard deviation : 1.707825127659933\n",
            "Standard deviation axis 0 : [3. 3. 3. 3. 3. 3.]\n",
            "Standard deviation axis 1 : [1.70782513 1.70782513]\n",
            "-----------------------------------\n",
            "Addition : [ 8 10 12 14 16 18]\n",
            "Multiplication : [ 7 16 27 40 55 72]\n",
            "Division : [0.14285714 0.25       0.33333333 0.4        0.45454545 0.5       ]\n",
            "Substraction : [-6 -6 -6 -6 -6 -6]\n",
            "-----------------------------------\n"
          ]
        }
      ]
    },
    {
      "cell_type": "markdown",
      "source": [
        "# NumPy Matrix"
      ],
      "metadata": {
        "id": "Na2I2fQb6qCC"
      }
    },
    {
      "cell_type": "code",
      "source": [
        "# NumPy matrix\n",
        "matrix1 = np.matrix([[1,2,3],[4,5,6]])\n",
        "matrix2 = np.matrix([[7,8,9],[10,11,12]])\n",
        "square_matrix = np.matrix([[1, 2], [3, 4]])\n",
        "\n",
        "print(\"Matrix 1 :\\n\",matrix1)\n",
        "print(\"Matrix 2 :\\n\",matrix2)\n",
        "\n",
        "# Access matrix elements\n",
        "print(\"Matrix 1 element 0,0 :\",matrix1[0,0])\n",
        "print(\"Matrix 1 element 0,1 :\",matrix1[0,1])\n",
        "print(\"Matrix 1 element 0,0 to 1,1 :\",matrix1[0:2,0:2]) # 2 are excluded\n",
        "\n",
        "# transpose\n",
        "print(\"Transpose of matrix 1 :\\n\",np.transpose(matrix1))\n",
        "print(\"Transpose of matrix 2 :\\n\",np.transpose(matrix2))\n",
        "\n",
        "# Dot product\n",
        "print(\"Dot product of matrix 1 and matrix 2 :\\n\",np.dot(matrix1, np.transpose(matrix2)))\n",
        "\n",
        "# Inverse\n",
        "print(\"Square matrix :\\n\", square_matrix)\n",
        "print(\"Inverse of square matrix :\\n\", np.linalg.inv(square_matrix))"
      ],
      "metadata": {
        "colab": {
          "base_uri": "https://localhost:8080/"
        },
        "id": "c5y7-FOH6xMk",
        "outputId": "a15bf9d2-64a8-4368-a390-6d5f22b27e67"
      },
      "execution_count": 76,
      "outputs": [
        {
          "output_type": "stream",
          "name": "stdout",
          "text": [
            "Matrix 1 :\n",
            " [[1 2 3]\n",
            " [4 5 6]]\n",
            "Matrix 2 :\n",
            " [[ 7  8  9]\n",
            " [10 11 12]]\n",
            "Matrix 1 element 0,0 : 1\n",
            "Matrix 1 element 0,1 : 2\n",
            "Matrix 1 element 0,0 to 1,1 : [[1 2]\n",
            " [4 5]]\n",
            "Transpose of matrix 1 :\n",
            " [[1 4]\n",
            " [2 5]\n",
            " [3 6]]\n",
            "Transpose of matrix 2 :\n",
            " [[ 7 10]\n",
            " [ 8 11]\n",
            " [ 9 12]]\n",
            "Dot product of matrix 1 and matrix 2 :\n",
            " [[ 50  68]\n",
            " [122 167]]\n",
            "Square matrix :\n",
            " [[1 2]\n",
            " [3 4]]\n",
            "Inverse of square matrix :\n",
            " [[-2.   1. ]\n",
            " [ 1.5 -0.5]]\n"
          ]
        }
      ]
    }
  ]
}